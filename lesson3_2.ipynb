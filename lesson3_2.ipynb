{
 "cells": [
  {
   "cell_type": "code",
   "execution_count": 3,
   "metadata": {},
   "outputs": [
    {
     "name": "stdout",
     "output_type": "stream",
     "text": [
      "獎金:500\n"
     ]
    }
   ],
   "source": [
    "#邏輯運算子\n",
    "\n",
    "#國文分數100 同時 數學分數100 獎金1000\n",
    "#國文分數100 或者 數學分數100 獎金500\n",
    "\n",
    "chinese = int(input(\"請輸入國文分數:\"))\n",
    "math = int(input(\"請輸入數學分數:\"))\n",
    "bonus = 0\n",
    "\n",
    "if chinese == 100 and math == 100:\n",
    "    bonus = 1000\n",
    "elif chinese == 100 or math == 100:\n",
    "    bonus = 500\n",
    "else:\n",
    "    bonus = 0\n",
    "\n",
    "print(f\"獎金:{bonus}\")"
   ]
  },
  {
   "cell_type": "code",
   "execution_count": 15,
   "metadata": {},
   "outputs": [
    {
     "name": "stdout",
     "output_type": "stream",
     "text": [
      "BMI=37.72\n",
      "重度肥胖\n"
     ]
    }
   ],
   "source": [
    "#計算bmi\n",
    "height = eval(input(\"請輸入身高(公分):\"))\n",
    "weight = eval(input(\"請輸入體重(公斤):\"))\n",
    "\n",
    "bmi = weight/ (height/100) ** 2\n",
    "\n",
    "print(f'BMI={bmi:.2f}') #只顯示小數點後兩位\n",
    "\n",
    "#多項選擇\n",
    "if bmi >= 35:\n",
    "    state = '重度肥胖'\n",
    "elif bmi >= 30:\n",
    "    state = '中度肥胖'\n",
    "elif bmi >= 27:\n",
    "    state = '輕度肥胖'\n",
    "elif bmi >= 24:\n",
    "    state = '過重'\n",
    "elif bmi >= 18.5:\n",
    "    state = '正常範圍'\n",
    "else:\n",
    "    state = '體重過輕'\n",
    "\n",
    "print(state)"
   ]
  },
  {
   "cell_type": "code",
   "execution_count": null,
   "metadata": {},
   "outputs": [],
   "source": [
    " "
   ]
  }
 ],
 "metadata": {
  "kernelspec": {
   "display_name": "Python 3.10.8 64-bit",
   "language": "python",
   "name": "python3"
  },
  "language_info": {
   "codemirror_mode": {
    "name": "ipython",
    "version": 3
   },
   "file_extension": ".py",
   "mimetype": "text/x-python",
   "name": "python",
   "nbconvert_exporter": "python",
   "pygments_lexer": "ipython3",
   "version": "3.10.8"
  },
  "orig_nbformat": 4,
  "vscode": {
   "interpreter": {
    "hash": "aee8b7b246df8f9039afb4144a1f6fd8d2ca17a180786b69acc140d282b71a49"
   }
  }
 },
 "nbformat": 4,
 "nbformat_minor": 2
}
