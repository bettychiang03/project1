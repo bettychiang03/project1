{
 "cells": [
  {
   "cell_type": "code",
   "execution_count": 3,
   "metadata": {},
   "outputs": [
    {
     "data": {
      "text/plain": [
       "0.7122759823894418"
      ]
     },
     "execution_count": 3,
     "metadata": {},
     "output_type": "execute_result"
    }
   ],
   "source": [
    "import random\n",
    "random.random()"
   ]
  },
  {
   "cell_type": "code",
   "execution_count": 6,
   "metadata": {},
   "outputs": [
    {
     "name": "stdout",
     "output_type": "stream",
     "text": [
      "6.413947035211799\n",
      "99.89094500349984\n"
     ]
    }
   ],
   "source": [
    "print(random.uniform(1,10))\n",
    "print(random.uniform(99,100))\n"
   ]
  },
  {
   "cell_type": "code",
   "execution_count": 10,
   "metadata": {},
   "outputs": [
    {
     "name": "stdout",
     "output_type": "stream",
     "text": [
      "6\n"
     ]
    }
   ],
   "source": [
    "random_value = random.randint(1,10)\n",
    "print(random_value)"
   ]
  },
  {
   "cell_type": "code",
   "execution_count": 16,
   "metadata": {},
   "outputs": [
    {
     "name": "stdout",
     "output_type": "stream",
     "text": [
      "===========猜數字遊戲=============\n",
      "猜錯了\n",
      "猜錯了\n",
      "猜錯了\n",
      "猜錯了\n",
      "猜錯了\n",
      "猜對了,答案是:9\n",
      "遊戲結束\n"
     ]
    }
   ],
   "source": [
    "min = 1\n",
    "max = 10\n",
    "random_value = random.randint(min,max)\n",
    "print(\"===========猜數字遊戲=============\")\n",
    "\n",
    "#不知道會猜幾次\n",
    "while True:\n",
    "    keyin = int(input(f\"猜數字的範圍{min}~{max}:\"))\n",
    "    if keyin == random_value:\n",
    "        print(f\"猜對了,答案是:{random_value}\")\n",
    "        break\n",
    "    else:\n",
    "        print(\"猜錯了\")\n",
    "print(\"遊戲結束\")"
   ]
  },
  {
   "cell_type": "code",
   "execution_count": 24,
   "metadata": {},
   "outputs": [
    {
     "name": "stdout",
     "output_type": "stream",
     "text": [
      "===========猜數字遊戲=============\n",
      "超出範圍\n",
      "再小一點\n",
      "您已猜了2次\n",
      "再小一點\n",
      "您已猜了3次\n",
      "再大一點\n",
      "您已猜了4次\n",
      "再大一點\n",
      "您已猜了5次\n",
      "猜對了,答案是:4\n",
      "您總共猜6次\n",
      "遊戲結束\n"
     ]
    }
   ],
   "source": [
    "min = 1\n",
    "max = 10\n",
    "count = 0 #計算猜幾次\n",
    "\n",
    "random_value = random.randint(min,max)\n",
    "print(\"===========猜數字遊戲=============\")\n",
    "\n",
    "while True:\n",
    "    count += 1 #每進迴圈算一次\n",
    "    keyin = int(input(f\"猜數字的範圍{min}~{max}:\"))\n",
    "    if keyin >= min and keyin <= max: #檢查輸入值是否在範圍內\n",
    "        if keyin == random_value:\n",
    "            print(f\"猜對了,答案是:{random_value}\")\n",
    "            print(f\"您總共猜{count}次\")\n",
    "            break\n",
    "        elif keyin > random_value:\n",
    "            print(\"再小一點\")\n",
    "            max = keyin - 1\n",
    "        elif keyin < random_value:\n",
    "            print(\"再大一點\")\n",
    "            min = keyin + 1\n",
    "        print(f\"您已猜了{count}次\")        \n",
    "    else:\n",
    "        print(\"超出範圍\")\n",
    "print(\"遊戲結束\")"
   ]
  },
  {
   "cell_type": "code",
   "execution_count": null,
   "metadata": {},
   "outputs": [],
   "source": []
  }
 ],
 "metadata": {
  "kernelspec": {
   "display_name": "Python 3.10.8 64-bit",
   "language": "python",
   "name": "python3"
  },
  "language_info": {
   "codemirror_mode": {
    "name": "ipython",
    "version": 3
   },
   "file_extension": ".py",
   "mimetype": "text/x-python",
   "name": "python",
   "nbconvert_exporter": "python",
   "pygments_lexer": "ipython3",
   "version": "3.10.8"
  },
  "orig_nbformat": 4,
  "vscode": {
   "interpreter": {
    "hash": "aee8b7b246df8f9039afb4144a1f6fd8d2ca17a180786b69acc140d282b71a49"
   }
  }
 },
 "nbformat": 4,
 "nbformat_minor": 2
}
